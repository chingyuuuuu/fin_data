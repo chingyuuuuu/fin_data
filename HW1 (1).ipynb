{
 "cells": [
  {
   "cell_type": "code",
   "execution_count": 1,
   "id": "42824e37-ccb0-4e93-aede-f45258e2150e",
   "metadata": {},
   "outputs": [
    {
     "name": "stdout",
     "output_type": "stream",
     "text": [
      "Collecting panda\n",
      "  Downloading panda-0.3.1.tar.gz (5.8 kB)\n",
      "  Preparing metadata (setup.py): started\n",
      "  Preparing metadata (setup.py): finished with status 'done'\n",
      "Requirement already satisfied: setuptools in c:\\users\\ching\\anaconda3\\lib\\site-packages (from panda) (68.2.2)\n",
      "Requirement already satisfied: requests in c:\\users\\ching\\anaconda3\\lib\\site-packages (from panda) (2.31.0)\n",
      "Requirement already satisfied: charset-normalizer<4,>=2 in c:\\users\\ching\\anaconda3\\lib\\site-packages (from requests->panda) (2.0.4)\n",
      "Requirement already satisfied: idna<4,>=2.5 in c:\\users\\ching\\anaconda3\\lib\\site-packages (from requests->panda) (3.4)\n",
      "Requirement already satisfied: urllib3<3,>=1.21.1 in c:\\users\\ching\\anaconda3\\lib\\site-packages (from requests->panda) (2.0.7)\n",
      "Requirement already satisfied: certifi>=2017.4.17 in c:\\users\\ching\\anaconda3\\lib\\site-packages (from requests->panda) (2024.2.2)\n",
      "Building wheels for collected packages: panda\n",
      "  Building wheel for panda (setup.py): started\n",
      "  Building wheel for panda (setup.py): finished with status 'done'\n",
      "  Created wheel for panda: filename=panda-0.3.1-py3-none-any.whl size=7247 sha256=6d8aefc3db736929fc257f802745a0836d22c71e67f716ec71128ba2aa9508d9\n",
      "  Stored in directory: c:\\users\\ching\\appdata\\local\\pip\\cache\\wheels\\df\\5c\\39\\36f8dae25a1e88d6ec4411dec4a143781e64fdff6897758eec\n",
      "Successfully built panda\n",
      "Installing collected packages: panda\n",
      "Successfully installed panda-0.3.1\n",
      "Requirement already satisfied: yfinance in c:\\users\\ching\\anaconda3\\lib\\site-packages (0.2.37)\n",
      "Requirement already satisfied: pandas>=1.3.0 in c:\\users\\ching\\anaconda3\\lib\\site-packages (from yfinance) (2.1.4)\n",
      "Requirement already satisfied: numpy>=1.16.5 in c:\\users\\ching\\anaconda3\\lib\\site-packages (from yfinance) (1.26.4)\n",
      "Requirement already satisfied: requests>=2.31 in c:\\users\\ching\\anaconda3\\lib\\site-packages (from yfinance) (2.31.0)\n",
      "Requirement already satisfied: multitasking>=0.0.7 in c:\\users\\ching\\anaconda3\\lib\\site-packages (from yfinance) (0.0.11)\n",
      "Requirement already satisfied: lxml>=4.9.1 in c:\\users\\ching\\anaconda3\\lib\\site-packages (from yfinance) (4.9.3)\n",
      "Requirement already satisfied: appdirs>=1.4.4 in c:\\users\\ching\\anaconda3\\lib\\site-packages (from yfinance) (1.4.4)\n",
      "Requirement already satisfied: pytz>=2022.5 in c:\\users\\ching\\anaconda3\\lib\\site-packages (from yfinance) (2023.3.post1)\n",
      "Requirement already satisfied: frozendict>=2.3.4 in c:\\users\\ching\\anaconda3\\lib\\site-packages (from yfinance) (2.4.1)\n",
      "Requirement already satisfied: peewee>=3.16.2 in c:\\users\\ching\\anaconda3\\lib\\site-packages (from yfinance) (3.17.1)\n",
      "Requirement already satisfied: beautifulsoup4>=4.11.1 in c:\\users\\ching\\anaconda3\\lib\\site-packages (from yfinance) (4.12.2)\n",
      "Requirement already satisfied: html5lib>=1.1 in c:\\users\\ching\\anaconda3\\lib\\site-packages (from yfinance) (1.1)\n",
      "Requirement already satisfied: soupsieve>1.2 in c:\\users\\ching\\anaconda3\\lib\\site-packages (from beautifulsoup4>=4.11.1->yfinance) (2.5)\n",
      "Requirement already satisfied: six>=1.9 in c:\\users\\ching\\anaconda3\\lib\\site-packages (from html5lib>=1.1->yfinance) (1.16.0)\n",
      "Requirement already satisfied: webencodings in c:\\users\\ching\\anaconda3\\lib\\site-packages (from html5lib>=1.1->yfinance) (0.5.1)\n",
      "Requirement already satisfied: python-dateutil>=2.8.2 in c:\\users\\ching\\anaconda3\\lib\\site-packages (from pandas>=1.3.0->yfinance) (2.8.2)\n",
      "Requirement already satisfied: tzdata>=2022.1 in c:\\users\\ching\\anaconda3\\lib\\site-packages (from pandas>=1.3.0->yfinance) (2023.3)\n",
      "Requirement already satisfied: charset-normalizer<4,>=2 in c:\\users\\ching\\anaconda3\\lib\\site-packages (from requests>=2.31->yfinance) (2.0.4)\n",
      "Requirement already satisfied: idna<4,>=2.5 in c:\\users\\ching\\anaconda3\\lib\\site-packages (from requests>=2.31->yfinance) (3.4)\n",
      "Requirement already satisfied: urllib3<3,>=1.21.1 in c:\\users\\ching\\anaconda3\\lib\\site-packages (from requests>=2.31->yfinance) (2.0.7)\n",
      "Requirement already satisfied: certifi>=2017.4.17 in c:\\users\\ching\\anaconda3\\lib\\site-packages (from requests>=2.31->yfinance) (2024.2.2)\n"
     ]
    }
   ],
   "source": [
    "!pip install panda\n",
    "!pip install yfinance "
   ]
  },
  {
   "cell_type": "code",
   "execution_count": 2,
   "id": "4d018752-ab68-4049-a86d-fb9870608f3d",
   "metadata": {},
   "outputs": [
    {
     "name": "stdout",
     "output_type": "stream",
     "text": [
      "八進位11+11+11: 0o33\n",
      "十進位11+11+11: 27\n",
      "十六進位AA+BB+CC 0x231\n",
      "十進位AA+BB+CC 561\n"
     ]
    }
   ],
   "source": [
    "octal_result=0o11+0o11+0o11\n",
    "print(\"八進位11+11+11:\",oct(octal_result))\n",
    "print(\"十進位11+11+11:\",octal_result)\n",
    "\n",
    "hex_result=0xAA+0xBB+0xCC\n",
    "print(\"十六進位AA+BB+CC\",hex(hex_result))\n",
    "print(\"十進位AA+BB+CC\",hex_result)"
   ]
  },
  {
   "cell_type": "code",
   "execution_count": 4,
   "id": "0397f382-0257-4543-b3cf-577f1b133f2c",
   "metadata": {},
   "outputs": [
    {
     "name": "stderr",
     "output_type": "stream",
     "text": [
      "[*********************100%%**********************]  1 of 1 completed\n",
      "[*********************100%%**********************]  1 of 1 completed"
     ]
    },
    {
     "name": "stdout",
     "output_type": "stream",
     "text": [
      "鴻海（2317.TW）股價資訊:\n",
      "             Open   High    Low  Close  Adj Close     Volume\n",
      "Date                                                        \n",
      "2022-01-03  104.5  105.0  103.0  103.0  93.433083   21800309\n",
      "2022-01-04  104.0  104.0  103.0  103.5  93.886642   18097232\n",
      "2022-01-05  104.0  111.0  103.5  109.0  98.875786  142256949\n",
      "2022-01-06  108.0  108.5  106.0  107.0  97.061554   49111058\n",
      "2022-01-07  108.0  108.5  106.0  106.5  96.607994   38575103\n",
      "\n",
      "宏碁（2353.TW）股價資訊:\n",
      "                 Open       High    Low      Close  Adj Close    Volume\n",
      "Date                                                                   \n",
      "2022-01-03  30.700001  30.750000  30.00  30.100000  24.934647  15396728\n",
      "2022-01-04  30.299999  30.450001  30.10  30.250000  25.058905  13900846\n",
      "2022-01-05  30.250000  31.150000  30.10  31.049999  25.721621  40342876\n",
      "2022-01-06  30.549999  30.799999  30.25  30.450001  25.224585  22892619\n",
      "2022-01-07  30.549999  30.600000  29.85  30.100000  24.934647  18015781\n"
     ]
    },
    {
     "name": "stderr",
     "output_type": "stream",
     "text": [
      "\n"
     ]
    }
   ],
   "source": [
    "import yfinance as yf \n",
    "start_date='2022-01-01'\n",
    "foxconn=yf.download('2317.TW',start=start_date)\n",
    "acer=yf.download('2353.TW',start=start_date)\n",
    "# 列印股票價格資訊\n",
    "print(\"鴻海（2317.TW）股價資訊:\")\n",
    "print(foxconn.head())\n",
    "print(\"\\n宏碁（2353.TW）股價資訊:\")\n",
    "print(acer.head())"
   ]
  },
  {
   "cell_type": "code",
   "execution_count": 5,
   "id": "f26f56ee-1df9-45ba-971b-30dc3a7ed60d",
   "metadata": {},
   "outputs": [
    {
     "name": "stdout",
     "output_type": "stream",
     "text": [
      "     0    1    2    3            4\n",
      "0  5.1  3.5  1.4  0.2  Iris-setosa\n",
      "1  4.9  3.0  1.4  0.2  Iris-setosa\n",
      "2  4.7  3.2  1.3  0.2  Iris-setosa\n",
      "3  4.6  3.1  1.5  0.2  Iris-setosa\n",
      "4  5.0  3.6  1.4  0.2  Iris-setosa\n"
     ]
    }
   ],
   "source": [
    "import pandas as pd \n",
    "#從UCI機器學習資料庫下載Iris資料集\n",
    "url = \"https://archive.ics.uci.edu/ml/machine-learning-databases/iris/iris.data\"\n",
    "\n",
    "# 使用pandas的read_csv函數將資料集讀取為DataFrame\n",
    "iris_df = pd.read_csv(url, header=None)\n",
    "\n",
    "# 將資料寫入CSV文件\n",
    "iris_df.to_csv('iris.csv', index=False)\n",
    "\n",
    "# 列印前幾行資料檢視\n",
    "print(iris_df.head())"
   ]
  },
  {
   "cell_type": "code",
   "execution_count": null,
   "id": "2536c041-f7a2-4ea5-9359-9d2518435566",
   "metadata": {},
   "outputs": [],
   "source": []
  }
 ],
 "metadata": {
  "kernelspec": {
   "display_name": "Python 3 (ipykernel)",
   "language": "python",
   "name": "python3"
  },
  "language_info": {
   "codemirror_mode": {
    "name": "ipython",
    "version": 3
   },
   "file_extension": ".py",
   "mimetype": "text/x-python",
   "name": "python",
   "nbconvert_exporter": "python",
   "pygments_lexer": "ipython3",
   "version": "3.11.7"
  }
 },
 "nbformat": 4,
 "nbformat_minor": 5
}
